{
 "cells": [
  {
   "cell_type": "markdown",
   "id": "64d11495",
   "metadata": {},
   "source": [
    "### Table of Contents\n",
    "\n",
    "* [Task 1 (Do not use sklearn library)](#chapter1)\n",
    "    * [1. Read the data and calculate summary statistics.](#section_1_1)\n",
    "    * [2. Calculate the correlation coefficient for sepal width and sepal length.](#section_1_2)\n",
    "    * [3. Find the best-fitting straight line relating y and x (slope estimate, intercept estimate, estimated regression line).](#section_1_3)\n",
    "    * [4. Plot the points on a scatter diagram and draw the line of best fit.](#section_1_4)\n",
    "    * [5. Comment on your results.](#section_1_5)\n",
    "* [Task 2 (Use sklearn library)](#chapter2)\n",
    "    * [1. Import packages and read the data.](#section_2_1)\n",
    "    * [2. Create a model and fit it.](#section_2_2)\n",
    "    * [3. Get results (coefficient of determination, slope, intercept).](#section_2_3)\n",
    "    * [4. Obtain predicted response.](#section_2_4)\n",
    "    * [5. Comment on your results](#section_2_5)\n",
    "* [Task 3 (Use sklearn library)](#chapter3)\n",
    "    * [1. Separate data into train (rows 2-39) and test (40-49).](#section_3_1)\n",
    "    * [2. Create a model and fit it.](#section_3_2)\n",
    "    * [3. Obtain predicted response for train and test.](#section_3_3)\n",
    "    * [4. Evaluate train and test data predictions. Show results for R-squred, MSE, RMSE, MAE.](#section_3_4)\n",
    "    * [5. Why should we look at test data predictions rather than train data predictions?](#section_3_5)\n",
    "* [Task 3.2 using train_test_split](#chapter4)"
   ]
  },
  {
   "cell_type": "markdown",
   "id": "6483ab68",
   "metadata": {},
   "source": [
    "### Task 1 (Do not use sklearn library) <a class=\"anchor\" id=\"chapter1\"></a>"
   ]
  },
  {
   "cell_type": "code",
   "execution_count": 1,
   "id": "b4e0ff96",
   "metadata": {},
   "outputs": [],
   "source": [
    "import pandas as pd#import needed libraries\n",
    "import matplotlib.pyplot as plt\n",
    "import numpy as np\n",
    "import os\n",
    "os.chdir('C:\\\\Users\\\\adala\\\\Downloads\\\\HW-2ds')"
   ]
  },
  {
   "cell_type": "code",
   "execution_count": 2,
   "id": "903daeae",
   "metadata": {},
   "outputs": [
    {
     "name": "stdout",
     "output_type": "stream",
     "text": [
      "*** No CODEPAGE record, no encoding_override: will use 'iso-8859-1'\n"
     ]
    }
   ],
   "source": [
    "file = r'iris_setosa.xls'\n",
    "df = pd.read_excel(file, engine = 'xlrd' )#read our dataset, used 'xlrd' because it didnt read data withou it."
   ]
  },
  {
   "cell_type": "markdown",
   "id": "ea53afcc",
   "metadata": {},
   "source": [
    "#### 1. Read the data and calculate summary statistics. <a class=\"anchor\" id=\"section_1_1\"></a>"
   ]
  },
  {
   "cell_type": "code",
   "execution_count": 3,
   "id": "06d4bc5f",
   "metadata": {},
   "outputs": [
    {
     "data": {
      "text/html": [
       "<div>\n",
       "<style scoped>\n",
       "    .dataframe tbody tr th:only-of-type {\n",
       "        vertical-align: middle;\n",
       "    }\n",
       "\n",
       "    .dataframe tbody tr th {\n",
       "        vertical-align: top;\n",
       "    }\n",
       "\n",
       "    .dataframe thead th {\n",
       "        text-align: right;\n",
       "    }\n",
       "</style>\n",
       "<table border=\"1\" class=\"dataframe\">\n",
       "  <thead>\n",
       "    <tr style=\"text-align: right;\">\n",
       "      <th></th>\n",
       "      <th>X</th>\n",
       "      <th>Y</th>\n",
       "    </tr>\n",
       "  </thead>\n",
       "  <tbody>\n",
       "    <tr>\n",
       "      <th>0</th>\n",
       "      <td>3.5</td>\n",
       "      <td>5.1</td>\n",
       "    </tr>\n",
       "    <tr>\n",
       "      <th>1</th>\n",
       "      <td>3.0</td>\n",
       "      <td>4.9</td>\n",
       "    </tr>\n",
       "    <tr>\n",
       "      <th>2</th>\n",
       "      <td>3.2</td>\n",
       "      <td>4.7</td>\n",
       "    </tr>\n",
       "    <tr>\n",
       "      <th>3</th>\n",
       "      <td>3.1</td>\n",
       "      <td>4.6</td>\n",
       "    </tr>\n",
       "    <tr>\n",
       "      <th>4</th>\n",
       "      <td>3.6</td>\n",
       "      <td>5.0</td>\n",
       "    </tr>\n",
       "  </tbody>\n",
       "</table>\n",
       "</div>"
      ],
      "text/plain": [
       "     X    Y\n",
       "0  3.5  5.1\n",
       "1  3.0  4.9\n",
       "2  3.2  4.7\n",
       "3  3.1  4.6\n",
       "4  3.6  5.0"
      ]
     },
     "execution_count": 3,
     "metadata": {},
     "output_type": "execute_result"
    }
   ],
   "source": [
    "df.head()"
   ]
  },
  {
   "cell_type": "code",
   "execution_count": 4,
   "id": "9b0f11a4",
   "metadata": {},
   "outputs": [],
   "source": [
    "X = df.X.to_numpy()#applying data to variables\n",
    "y = df.Y.to_numpy()"
   ]
  },
  {
   "cell_type": "code",
   "execution_count": 5,
   "id": "cc0128e4",
   "metadata": {},
   "outputs": [
    {
     "name": "stdout",
     "output_type": "stream",
     "text": [
      "165.2\n",
      "575.3600000000001\n"
     ]
    }
   ],
   "source": [
    "sum_x = np.sum(X)# we calculate sum for the x \n",
    "sum_x2 = np.sum([i*i for i in X])#and squared x sum to use them in future to find correaltion coefficent\n",
    "print(sum_x)\n",
    "print(sum_x2)"
   ]
  },
  {
   "cell_type": "code",
   "execution_count": 6,
   "id": "5db28dcf",
   "metadata": {},
   "outputs": [
    {
     "name": "stdout",
     "output_type": "stream",
     "text": [
      "240.4\n",
      "1210.04\n"
     ]
    }
   ],
   "source": [
    "sum_y = np.sum(y)# we calculate sum for the y\n",
    "sum_y2 = np.sum([i*i for i in y])#and squared y sum to use them in future to find correaltion coefficent\n",
    "print(sum_y)\n",
    "print(sum_y2)"
   ]
  },
  {
   "cell_type": "code",
   "execution_count": 7,
   "id": "a97fe404",
   "metadata": {},
   "outputs": [
    {
     "name": "stdout",
     "output_type": "stream",
     "text": [
      "831.87\n"
     ]
    }
   ],
   "source": [
    "sum_xy = np.sum([X[i]*y[i] for i in range(len(y))])#These argument is sum of multiplication of x and y\n",
    "print(sum_xy)"
   ]
  },
  {
   "cell_type": "code",
   "execution_count": 8,
   "id": "e1133857",
   "metadata": {},
   "outputs": [
    {
     "name": "stdout",
     "output_type": "stream",
     "text": [
      "48\n"
     ]
    }
   ],
   "source": [
    "n = len(X)\n",
    "print(n)"
   ]
  },
  {
   "cell_type": "markdown",
   "id": "402560d9",
   "metadata": {},
   "source": [
    "#### 2. Calculate the correlation coefficient for sepal width and sepal length. <a class=\"anchor\" id=\"section_1_2\"></a>"
   ]
  },
  {
   "cell_type": "code",
   "execution_count": 9,
   "id": "1017707d",
   "metadata": {},
   "outputs": [
    {
     "name": "stdout",
     "output_type": "stream",
     "text": [
      "0.7015\n"
     ]
    }
   ],
   "source": [
    "corr_coef = (sum_xy - sum_x*sum_y/n)/np.sqrt((sum_x2 - sum_x*sum_x/n)*(sum_y2 - sum_y*sum_y/n))#using formula above we calculate corr. cof.\n",
    "print(np.round(corr_coef, 4))"
   ]
  },
  {
   "cell_type": "markdown",
   "id": "bd0b0411",
   "metadata": {},
   "source": [
    "#### 3. Find the best-fitting straight line relating y and x (slope estimate, intercept estimate, estimated regression line). <a class=\"anchor\" id=\"section_1_3\"></a>"
   ]
  },
  {
   "cell_type": "code",
   "execution_count": 10,
   "id": "f58ebc7e",
   "metadata": {},
   "outputs": [
    {
     "name": "stdout",
     "output_type": "stream",
     "text": [
      "0.661\n"
     ]
    }
   ],
   "source": [
    "slope = (sum_xy - sum_x*sum_y/n)/(sum_x2 - sum_x*sum_x/n)#calculating slope of the line\n",
    "print(np.round(slope, 3))"
   ]
  },
  {
   "cell_type": "code",
   "execution_count": 11,
   "id": "643c22f5",
   "metadata": {},
   "outputs": [
    {
     "name": "stdout",
     "output_type": "stream",
     "text": [
      "2.733\n"
     ]
    }
   ],
   "source": [
    "intercept = sum_y/n - slope*sum_x/n#calculating intercept of the line\n",
    "print(np.round(intercept, 3))"
   ]
  },
  {
   "cell_type": "code",
   "execution_count": 12,
   "id": "d8b531ea",
   "metadata": {},
   "outputs": [],
   "source": [
    "X = np.array(X)\n",
    "y = np.array(y)\n",
    "y_pred = intercept + slope*X#linear regression model"
   ]
  },
  {
   "cell_type": "markdown",
   "id": "2f841295",
   "metadata": {},
   "source": [
    "$$ y = 2.733 + 0.661 x$$"
   ]
  },
  {
   "cell_type": "markdown",
   "id": "04249588",
   "metadata": {},
   "source": [
    "#### 4. Plot the points on a scatter diagram and draw the line of best fit. <a class=\"anchor\" id=\"section_1_4\"></a>"
   ]
  },
  {
   "cell_type": "code",
   "execution_count": 13,
   "id": "93dadf0b",
   "metadata": {},
   "outputs": [
    {
     "data": {
      "image/png": "[encoded data removed]",
      "text/plain": [
       "<Figure size 432x360 with 1 Axes>"
      ]
     },
     "metadata": {
      "needs_background": "light"
     },
     "output_type": "display_data"
    }
   ],
   "source": [
    "plt.figure(figsize=(6,5))\n",
    "plt.scatter(X, y, c='blue', marker='x') #plotting our data\n",
    "plt.plot([min(X), max(X)], [min(y_pred), max(y_pred)], color='red')  # regression line\n",
    "plt.xlabel('sepal width (cm)')\n",
    "plt.ylabel('sepal length (cm)')\n",
    "plt.title('Scatter diagram of wildflower iris setosa.')\n",
    "plt.show()"
   ]
  },
  {
   "cell_type": "markdown",
   "id": "c8e1e5e9",
   "metadata": {},
   "source": [
    "##### 5. Comment on your results. <a class=\"anchor\" id=\"section_1_5\"></a>"
   ]
  },
  {
   "cell_type": "markdown",
   "id": "84413bb8",
   "metadata": {},
   "source": [
    "The data set consists two variables X(sepal width (cm)) as dependent variable and Y(sepal length (cm)) as independent variable.\n",
    "Calculating correlation coefficent between these two vatiables we have got 0.7015. According to this value we can see the resulst we have got is the strong positive correlation. What actually represents that as our sepal width increases the sepal length increases as well. We used our summary statistics also to calculate the slope and intercept of our linear regression function. Slope is equal to 0.661 and intercept is equal to 2.733 what gives us $$ y = 2.733 + 0.661 x$$ linear regression function like this"
   ]
  },
  {
   "cell_type": "markdown",
   "id": "468df8f3",
   "metadata": {},
   "source": [
    "### Task 2 (Use sklearn library) <a class=\"anchor\" id=\"chapter2\"></a>"
   ]
  },
  {
   "cell_type": "markdown",
   "id": "308c8b1c",
   "metadata": {},
   "source": [
    "#### 1. Import packages and read the data. <a class=\"anchor\" id=\"section_2_1\"></a>"
   ]
  },
  {
   "cell_type": "code",
   "execution_count": 14,
   "id": "94f81d75",
   "metadata": {},
   "outputs": [],
   "source": [
    "from sklearn.linear_model import LinearRegression#import LinearRegression from sklearn"
   ]
  },
  {
   "cell_type": "code",
   "execution_count": 15,
   "id": "1ead3d3d",
   "metadata": {},
   "outputs": [],
   "source": [
    "X = np.array(X).reshape((-1, 1))#reshaping our x variable\n",
    "y = np.array(y)"
   ]
  },
  {
   "cell_type": "markdown",
   "id": "933e8736",
   "metadata": {},
   "source": [
    "#### 2. Create a model and fit it. <a class=\"anchor\" id=\"section_2_2\"></a>"
   ]
  },
  {
   "cell_type": "code",
   "execution_count": 16,
   "id": "6017beeb",
   "metadata": {},
   "outputs": [],
   "source": [
    "model_lr = LinearRegression().fit(X, y)#fitting and creating our model"
   ]
  },
  {
   "cell_type": "markdown",
   "id": "31c03d3f",
   "metadata": {},
   "source": [
    "#### 3. Get results (coefficient of determination, slope, intercept). <a class=\"anchor\" id=\"section_2_3\"></a>"
   ]
  },
  {
   "cell_type": "code",
   "execution_count": 17,
   "id": "e312d472",
   "metadata": {},
   "outputs": [
    {
     "name": "stdout",
     "output_type": "stream",
     "text": [
      "Coefficient of determination: 0.492\n"
     ]
    }
   ],
   "source": [
    "R_sq = model_lr.score(X, y)#check the Coefficient of determination\n",
    "print('Coefficient of determination:', np.round(R_sq, 3))"
   ]
  },
  {
   "cell_type": "code",
   "execution_count": 18,
   "id": "ecd1975c",
   "metadata": {},
   "outputs": [
    {
     "name": "stdout",
     "output_type": "stream",
     "text": [
      "Correlation coefficient: 0.7015\n"
     ]
    }
   ],
   "source": [
    "corr_coef = np.sqrt(R_sq)#check the Correlation coefficient\n",
    "print('Correlation coefficient:', np.round(corr_coef, 4))"
   ]
  },
  {
   "cell_type": "code",
   "execution_count": 19,
   "id": "af0d9e5a",
   "metadata": {},
   "outputs": [
    {
     "name": "stdout",
     "output_type": "stream",
     "text": [
      "Intercept: 2.733\n",
      "Slope: [0.661]\n"
     ]
    }
   ],
   "source": [
    "print('Intercept:', np.round(model_lr.intercept_,3))#check the Intercept\n",
    "print('Slope:', np.round(model_lr.coef_,3))#check the Slope"
   ]
  },
  {
   "cell_type": "markdown",
   "id": "619647ba",
   "metadata": {},
   "source": [
    "#### 4. Obtain predicted response. <a class=\"anchor\" id=\"section_2_4\"></a>"
   ]
  },
  {
   "cell_type": "code",
   "execution_count": 20,
   "id": "353af679",
   "metadata": {},
   "outputs": [
    {
     "name": "stdout",
     "output_type": "stream",
     "text": [
      "Predicted response:\n",
      "[5.04689799 4.7163438  4.84856547 4.78245463 5.11300883 5.31134134\n",
      " 4.98078715 4.98078715 4.65023296 4.78245463 5.17911967 4.98078715\n",
      " 4.7163438  5.37745218 5.64189554 5.31134134 5.04689799 5.24523051\n",
      " 5.24523051 4.98078715 5.17911967 5.11300883 4.91467631 4.98078715\n",
      " 4.7163438  4.98078715 5.04689799 4.98078715 4.84856547 4.78245463\n",
      " 4.98078715 5.44356302 5.50967386 4.78245463 4.84856547 5.04689799\n",
      " 5.11300883 4.7163438  4.98078715 5.04689799 4.25356793 4.84856547\n",
      " 5.04689799 5.24523051 4.7163438  5.24523051 5.17911967 4.91467631]\n"
     ]
    }
   ],
   "source": [
    "y_pred = model_lr.predict(X)#using our model to make predictions on existin data\n",
    "print('Predicted response:', y_pred, sep='\\n')"
   ]
  },
  {
   "cell_type": "markdown",
   "id": "7d04ac77",
   "metadata": {},
   "source": [
    "#### 5. Comment on your results <a class=\"anchor\" id=\"section_2_5\"></a>"
   ]
  },
  {
   "cell_type": "markdown",
   "id": "dabf2103",
   "metadata": {},
   "source": [
    "Here we have worked with the same data to fit our model, but without these multiple calculating procceses. Sklearn library has created a model and calculated everything by LinearRegression().fit(X, y) function. The new thing that we have done is used predict() function to make a prediction on existing table."
   ]
  },
  {
   "cell_type": "markdown",
   "id": "b8f1411f",
   "metadata": {},
   "source": [
    "### Task 3 (Use sklearn library) <a class=\"anchor\" id=\"chapter3\"></a>"
   ]
  },
  {
   "cell_type": "markdown",
   "id": "99738775",
   "metadata": {},
   "source": [
    "#### 1. Separate data into train (rows 2-39) and test (40-49). <a class=\"anchor\" id=\"section_3_1\"></a>"
   ]
  },
  {
   "cell_type": "code",
   "execution_count": 21,
   "id": "d930da5a",
   "metadata": {},
   "outputs": [],
   "source": [
    "from sklearn.model_selection import train_test_split\n",
    "from sklearn import metrics"
   ]
  },
  {
   "cell_type": "code",
   "execution_count": 22,
   "id": "6f344bac",
   "metadata": {},
   "outputs": [],
   "source": [
    "X = np.array(X).reshape((-1, 1))\n",
    "y = np.array(y)"
   ]
  },
  {
   "cell_type": "code",
   "execution_count": 23,
   "id": "52abe344",
   "metadata": {},
   "outputs": [],
   "source": [
    "X_train, X_test = X[:40], X[40:49]#Separate data into train (rows 2-39) and test (40-49)\n",
    "y_train, y_test = y[:40], y[40:49]"
   ]
  },
  {
   "cell_type": "markdown",
   "id": "eac21135",
   "metadata": {},
   "source": [
    "#### 2. Create a model and fit it. <a class=\"anchor\" id=\"section_3_2\"></a>"
   ]
  },
  {
   "cell_type": "code",
   "execution_count": 24,
   "id": "6b3f16e9",
   "metadata": {},
   "outputs": [],
   "source": [
    "model_lr = LinearRegression().fit(X_train, y_train)#fitting and creating our model on trained data"
   ]
  },
  {
   "cell_type": "markdown",
   "id": "aef7082d",
   "metadata": {},
   "source": [
    "#### 3. Obtain predicted response for train and test. <a class=\"anchor\" id=\"section_3_3\"></a>"
   ]
  },
  {
   "cell_type": "code",
   "execution_count": 25,
   "id": "6a7fd421",
   "metadata": {},
   "outputs": [
    {
     "name": "stdout",
     "output_type": "stream",
     "text": [
      "[5.06893862 4.6912441  4.84232191 4.766783   5.14447752 5.37109423\n",
      " 4.99339971 4.99339971 4.61570519 4.766783   5.22001642 4.99339971\n",
      " 4.6912441  5.44663313 5.74878875 5.37109423 5.06893862 5.29555533\n",
      " 5.29555533 4.99339971 5.22001642 5.14447752 4.91786081 4.99339971\n",
      " 4.6912441  4.99339971 5.06893862 4.99339971 4.84232191 4.766783\n",
      " 4.99339971 5.52217204 5.59771094 4.766783   4.84232191 5.06893862\n",
      " 5.14447752 4.6912441  4.99339971 5.06893862]\n"
     ]
    }
   ],
   "source": [
    "train_pred = model_lr.predict(X_train)#model predictions for trainde data\n",
    "print(train_pred)"
   ]
  },
  {
   "cell_type": "code",
   "execution_count": 26,
   "id": "de3d5c3c",
   "metadata": {},
   "outputs": [
    {
     "name": "stdout",
     "output_type": "stream",
     "text": [
      "[4.16247177 4.84232191 5.06893862 5.29555533 4.6912441  5.29555533\n",
      " 5.22001642 4.91786081]\n"
     ]
    }
   ],
   "source": [
    "test_pred = model_lr.predict(X_test)#model predictions for tested data\n",
    "print(test_pred)"
   ]
  },
  {
   "cell_type": "code",
   "execution_count": 27,
   "id": "3659050d",
   "metadata": {},
   "outputs": [
    {
     "data": {
      "text/plain": [
       "array([4.5, 4.4, 5. , 5.1, 4.8, 4.6, 5.3, 5. ])"
      ]
     },
     "execution_count": 27,
     "metadata": {},
     "output_type": "execute_result"
    }
   ],
   "source": [
    "y_test"
   ]
  },
  {
   "cell_type": "markdown",
   "id": "8c5df5af",
   "metadata": {},
   "source": [
    "#### 4. Evaluate train and test data predictions. Show results for R-squred, MSE, RMSE, MAE. <a class=\"anchor\" id=\"section_3_4\"></a>"
   ]
  },
  {
   "cell_type": "code",
   "execution_count": 28,
   "id": "654517fe",
   "metadata": {},
   "outputs": [],
   "source": [
    "def print_evaluate(true, predicted):  \n",
    "    r2_square = metrics.r2_score(true, predicted)#Getting R squared value\n",
    "    mse = metrics.mean_squared_error(true, predicted)#Getting MSE  value\n",
    "    rmse = np.sqrt(metrics.mean_squared_error(true, predicted))#Getting RMSE value\n",
    "    mae = metrics.mean_absolute_error(true, predicted)#Getting MAE value\n",
    "    print('R-squared', np.round(r2_square,3))\n",
    "    print('MSE:', np.round(mse,3))\n",
    "    print('RMSE:', np.round(rmse,3))\n",
    "    print('MAE:', np.round(mae,3))"
   ]
  },
  {
   "cell_type": "code",
   "execution_count": 29,
   "id": "8a5ea672",
   "metadata": {},
   "outputs": [
    {
     "name": "stdout",
     "output_type": "stream",
     "text": [
      "R-squared 0.55\n",
      "MSE: 0.057\n",
      "RMSE: 0.239\n",
      "MAE: 0.196\n"
     ]
    }
   ],
   "source": [
    "print_evaluate(y_train, train_pred)"
   ]
  },
  {
   "cell_type": "code",
   "execution_count": 30,
   "id": "ff412784",
   "metadata": {},
   "outputs": [
    {
     "name": "stdout",
     "output_type": "stream",
     "text": [
      "R-squared -0.233\n",
      "MSE: 0.108\n",
      "RMSE: 0.328\n",
      "MAE: 0.251\n"
     ]
    }
   ],
   "source": [
    "print_evaluate(y_test, test_pred)"
   ]
  },
  {
   "cell_type": "markdown",
   "id": "c4b8f974",
   "metadata": {},
   "source": [
    "#### 5. Why should we look at test data predictions rather than train data predictions? <a class=\"anchor\" id=\"section_3_5\"></a>"
   ]
  },
  {
   "cell_type": "markdown",
   "id": "15e2d706",
   "metadata": {},
   "source": [
    "The reason why we have to more pay attention to the test data prediction is because test data is new data for our model, meanwhile train data or existing one was used to fit and train our model so of course prediction accuracy is more more accurate. In total we can say that we are giving our trained model new data (test data) to see how it will predict on unfamiliar data."
   ]
  },
  {
   "cell_type": "markdown",
   "id": "3a651ca3",
   "metadata": {},
   "source": [
    "# Task 3.2 using train_test_split <a class=\"anchor\" id=\"chapter4\"></a>"
   ]
  },
  {
   "cell_type": "code",
   "execution_count": 31,
   "id": "12ce603b",
   "metadata": {},
   "outputs": [],
   "source": [
    "X_train_2, X_test_2, y_train_2, y_test_2 = train_test_split(X, y, test_size=0.2, random_state=42)\n",
    "#do the same thing as like we have done previously but now split data buy train_test_split functions"
   ]
  },
  {
   "cell_type": "code",
   "execution_count": 32,
   "id": "6b7c9f59",
   "metadata": {},
   "outputs": [],
   "source": [
    "model_lr_2 = LinearRegression().fit(X_train_2, y_train_2)#fit and buid our model"
   ]
  },
  {
   "cell_type": "code",
   "execution_count": 33,
   "id": "fcb210cd",
   "metadata": {},
   "outputs": [
    {
     "name": "stdout",
     "output_type": "stream",
     "text": [
      "[4.61666667 4.75707965 4.96769912 5.0379056  4.75707965 5.38893805\n",
      " 5.24852507 5.24852507 5.31873156 4.75707965 5.0379056  4.75707965\n",
      " 5.52935103 5.17831858 5.0379056  5.45914454 4.96769912 5.31873156\n",
      " 4.96769912 4.82728614 4.68687316 4.68687316 5.10811209 4.82728614\n",
      " 5.10811209 5.0379056  4.96769912 4.82728614 5.17831858 4.89749263\n",
      " 5.24852507 4.89749263 5.17831858 4.96769912 5.0379056  5.66976401\n",
      " 4.82728614 4.96769912]\n"
     ]
    }
   ],
   "source": [
    "train_pred_2 = model_lr_2.predict(X_train_2)#model predictions for trainde data\n",
    "print(train_pred_2)"
   ]
  },
  {
   "cell_type": "code",
   "execution_count": 34,
   "id": "2716a2d3",
   "metadata": {},
   "outputs": [
    {
     "name": "stdout",
     "output_type": "stream",
     "text": [
      "[4.99339971 4.16247177 5.06893862 5.29555533 4.6912441  4.6912441\n",
      " 4.6912441  4.99339971 5.14447752 4.99339971]\n"
     ]
    }
   ],
   "source": [
    "test_pred_2 = model_lr.predict(X_test_2)#model predictions for tested data\n",
    "print(test_pred_2)"
   ]
  },
  {
   "cell_type": "code",
   "execution_count": 35,
   "id": "698a3ef3",
   "metadata": {},
   "outputs": [
    {
     "name": "stdout",
     "output_type": "stream",
     "text": [
      "R-squared 0.492\n",
      "MSE: 0.062\n",
      "RMSE: 0.249\n",
      "MAE: 0.196\n"
     ]
    }
   ],
   "source": [
    "print_evaluate(y_train_2, train_pred_2)#We can see that our R^2 score getting more simmiliar to test data"
   ]
  },
  {
   "cell_type": "code",
   "execution_count": 36,
   "id": "80899b19",
   "metadata": {},
   "outputs": [
    {
     "name": "stdout",
     "output_type": "stream",
     "text": [
      "R-squared 0.424\n",
      "MSE: 0.073\n",
      "RMSE: 0.27\n",
      "MAE: 0.242\n"
     ]
    }
   ],
   "source": [
    "print_evaluate(y_test_2, test_pred_2)"
   ]
  }
 ],
 "metadata": {
  "kernelspec": {
   "display_name": "Python 3 (ipykernel)",
   "language": "python",
   "name": "python3"
  },
  "language_info": {
   "codemirror_mode": {
    "name": "ipython",
    "version": 3
   },
   "file_extension": ".py",
   "mimetype": "text/x-python",
   "name": "python",
   "nbconvert_exporter": "python",
   "pygments_lexer": "ipython3",
   "version": "3.9.7"
  }
 },
 "nbformat": 4,
 "nbformat_minor": 5
}
